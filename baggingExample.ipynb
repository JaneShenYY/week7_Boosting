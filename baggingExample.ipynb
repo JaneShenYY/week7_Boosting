{
 "metadata": {
  "name": "",
  "signature": "sha256:2821f6d368e1ff5960e929fb780f836645d3f031f8b2c6e66b0bc5dc24a50514"
 },
 "nbformat": 3,
 "nbformat_minor": 0,
 "worksheets": [
  {
   "cells": [
    {
     "cell_type": "markdown",
     "metadata": {},
     "source": [
      "# An example of bagging on the Car Safety dataset"
     ]
    },
    {
     "cell_type": "code",
     "collapsed": false,
     "input": [
      "import numpy as np\n",
      "import dtree\n",
      "import bagging\n",
      "import randomforest"
     ],
     "language": "python",
     "metadata": {},
     "outputs": [],
     "prompt_number": 1
    },
    {
     "cell_type": "code",
     "collapsed": false,
     "input": [
      "tree = dtree.dtree()\n",
      "bagger = bagging.bagger()\n",
      "forest = randomforest.randomforest()\n",
      "\n",
      "data,classes,features = tree.read_data('car.data')\n",
      "\n",
      "train = data[::2][:]\n",
      "test = data[1::2][:]\n",
      "trainc = classes[::2]\n",
      "testc = classes[1::2]\n",
      "\n",
      "t=tree.make_tree(train,trainc,features)\n",
      "out = tree.classifyAll(t,test)\n",
      "tree.printTree(t,' ')\n",
      " \n",
      "a = np.zeros(len(out))\n",
      "b = np.zeros(len(out))\n",
      "d = np.zeros(len(out))\n",
      " \n",
      "for i in range(len(out)):\n",
      "    if testc[i] == 'good' or testc[i]== 'v-good':\n",
      "        b[i] = 1\n",
      "        if out[i] == testc[i]:\n",
      "            d[i] = 1\n",
      "    if out[i] == testc[i]:\n",
      "        a[i] = 1\n",
      " \n",
      "print \"Tree\"\n",
      "print \"Number correctly predicted\",np.sum(a)\n",
      "print \"Number of testpoints \",len(a)\n",
      "print \"Percentage Accuracy \",np.sum(a)/len(a)*100.0\n",
      "print \"\"\n",
      "print \"Number of cars rated as good or very good\", np.sum(b)\n",
      "print \"Number correctly identified as good or very good\",np.sum(d) \n",
      "print \"Percentage Accuracy\",np.sum(d)/np.sum(b)*100.0"
     ],
     "language": "python",
     "metadata": {},
     "outputs": [
      {
       "ename": "AttributeError",
       "evalue": "'module' object has no attribute 'dtree'",
       "output_type": "pyerr",
       "traceback": [
        "\u001b[1;31m---------------------------------------------------------------------------\u001b[0m\n\u001b[1;31mAttributeError\u001b[0m                            Traceback (most recent call last)",
        "\u001b[1;32m<ipython-input-2-c62a11d5d6ef>\u001b[0m in \u001b[0;36m<module>\u001b[1;34m()\u001b[0m\n\u001b[1;32m----> 1\u001b[1;33m \u001b[0mtree\u001b[0m \u001b[1;33m=\u001b[0m \u001b[0mdtree\u001b[0m\u001b[1;33m.\u001b[0m\u001b[0mdtree\u001b[0m\u001b[1;33m(\u001b[0m\u001b[1;33m)\u001b[0m\u001b[1;33m\u001b[0m\u001b[0m\n\u001b[0m\u001b[0;32m      2\u001b[0m \u001b[0mbagger\u001b[0m \u001b[1;33m=\u001b[0m \u001b[0mbagging\u001b[0m\u001b[1;33m.\u001b[0m\u001b[0mbagger\u001b[0m\u001b[1;33m(\u001b[0m\u001b[1;33m)\u001b[0m\u001b[1;33m\u001b[0m\u001b[0m\n\u001b[0;32m      3\u001b[0m \u001b[0mforest\u001b[0m \u001b[1;33m=\u001b[0m \u001b[0mrandomforest\u001b[0m\u001b[1;33m.\u001b[0m\u001b[0mrandomforest\u001b[0m\u001b[1;33m(\u001b[0m\u001b[1;33m)\u001b[0m\u001b[1;33m\u001b[0m\u001b[0m\n\u001b[0;32m      4\u001b[0m \u001b[1;33m\u001b[0m\u001b[0m\n\u001b[0;32m      5\u001b[0m \u001b[0mdata\u001b[0m\u001b[1;33m,\u001b[0m\u001b[0mclasses\u001b[0m\u001b[1;33m,\u001b[0m\u001b[0mfeatures\u001b[0m \u001b[1;33m=\u001b[0m \u001b[0mtree\u001b[0m\u001b[1;33m.\u001b[0m\u001b[0mread_data\u001b[0m\u001b[1;33m(\u001b[0m\u001b[1;34m'car.data'\u001b[0m\u001b[1;33m)\u001b[0m\u001b[1;33m\u001b[0m\u001b[0m\n",
        "\u001b[1;31mAttributeError\u001b[0m: 'module' object has no attribute 'dtree'"
       ]
      }
     ],
     "prompt_number": 2
    },
    {
     "cell_type": "code",
     "collapsed": false,
     "input": [
      "c=bagger.bag(train,trainc,features,100)\n",
      "out = bagger.bagclass(c,test)\n",
      " \n",
      "a = np.zeros(len(out))\n",
      "b = np.zeros(len(out))\n",
      "d = np.zeros(len(out))\n",
      " \n",
      "for i in range(len(out)):\n",
      "    if testc[i] == 'good' or testc[i]== 'v-good':\n",
      "        b[i] = 1\n",
      "        if out[i] == testc[i]:\n",
      "            d[i] = 1\n",
      "    if out[i] == testc[i]:\n",
      "        a[i] = 1\n",
      "print \"-----\"\n",
      "print \"Bagger\"\n",
      "print \"Number correctly predicted\",np.sum(a)\n",
      "print \"Number of testpoints \",len(a)\n",
      "print \"Percentage Accuracy \",np.sum(a)/len(a)*100.0\n",
      "print \"\"\n",
      "print \"Number of cars rated as good or very good\", np.sum(b)\n",
      "print \"Number correctly identified as good or very good\",np.sum(d) \n",
      "print \"Percentage Accuracy\",np.sum(d)/np.sum(b)*100.0"
     ],
     "language": "python",
     "metadata": {},
     "outputs": [
      {
       "ename": "NameError",
       "evalue": "name 'bagger' is not defined",
       "output_type": "pyerr",
       "traceback": [
        "\u001b[1;31m---------------------------------------------------------------------------\u001b[0m\n\u001b[1;31mNameError\u001b[0m                                 Traceback (most recent call last)",
        "\u001b[1;32m<ipython-input-3-a85ab8cfa84e>\u001b[0m in \u001b[0;36m<module>\u001b[1;34m()\u001b[0m\n\u001b[1;32m----> 1\u001b[1;33m \u001b[0mc\u001b[0m\u001b[1;33m=\u001b[0m\u001b[0mbagger\u001b[0m\u001b[1;33m.\u001b[0m\u001b[0mbag\u001b[0m\u001b[1;33m(\u001b[0m\u001b[0mtrain\u001b[0m\u001b[1;33m,\u001b[0m\u001b[0mtrainc\u001b[0m\u001b[1;33m,\u001b[0m\u001b[0mfeatures\u001b[0m\u001b[1;33m,\u001b[0m\u001b[1;36m100\u001b[0m\u001b[1;33m)\u001b[0m\u001b[1;33m\u001b[0m\u001b[0m\n\u001b[0m\u001b[0;32m      2\u001b[0m \u001b[0mout\u001b[0m \u001b[1;33m=\u001b[0m \u001b[0mbagger\u001b[0m\u001b[1;33m.\u001b[0m\u001b[0mbagclass\u001b[0m\u001b[1;33m(\u001b[0m\u001b[0mc\u001b[0m\u001b[1;33m,\u001b[0m\u001b[0mtest\u001b[0m\u001b[1;33m)\u001b[0m\u001b[1;33m\u001b[0m\u001b[0m\n\u001b[0;32m      3\u001b[0m \u001b[1;33m\u001b[0m\u001b[0m\n\u001b[0;32m      4\u001b[0m \u001b[0ma\u001b[0m \u001b[1;33m=\u001b[0m \u001b[0mnp\u001b[0m\u001b[1;33m.\u001b[0m\u001b[0mzeros\u001b[0m\u001b[1;33m(\u001b[0m\u001b[0mlen\u001b[0m\u001b[1;33m(\u001b[0m\u001b[0mout\u001b[0m\u001b[1;33m)\u001b[0m\u001b[1;33m)\u001b[0m\u001b[1;33m\u001b[0m\u001b[0m\n\u001b[0;32m      5\u001b[0m \u001b[0mb\u001b[0m \u001b[1;33m=\u001b[0m \u001b[0mnp\u001b[0m\u001b[1;33m.\u001b[0m\u001b[0mzeros\u001b[0m\u001b[1;33m(\u001b[0m\u001b[0mlen\u001b[0m\u001b[1;33m(\u001b[0m\u001b[0mout\u001b[0m\u001b[1;33m)\u001b[0m\u001b[1;33m)\u001b[0m\u001b[1;33m\u001b[0m\u001b[0m\n",
        "\u001b[1;31mNameError\u001b[0m: name 'bagger' is not defined"
       ]
      }
     ],
     "prompt_number": 3
    },
    {
     "cell_type": "code",
     "collapsed": false,
     "input": [
      "f=f = forest.rf(train,trainc,features,100,200,2)\n",
      "out = forest.rfclass(f,test)\n",
      "\n",
      "a = np.zeros(len(out))\n",
      "b = np.zeros(len(out))\n",
      "d = np.zeros(len(out))\n",
      "\n",
      "for i in range(len(out)):\n",
      "    if testc[i] == 'good' or testc[i]== 'v-good':\n",
      "        b[i] = 1\n",
      "        if out[i] == testc[i]:\n",
      "            d[i] = 1\n",
      "    if out[i] == testc[i]:\n",
      "        a[i] = 1\n",
      "print \"-----\"\n",
      "print \"Forest\"\n",
      "print \"Number correctly predicted\",np.sum(a)\n",
      "print \"Number of testpoints \",len(a)\n",
      "print \"Percentage Accuracy \",np.sum(a)/len(a)*100.0\n",
      "print \"\"\n",
      "print \"Number of cars rated as good or very good\", np.sum(b)\n",
      "print \"Number correctly identified as good or very good\",np.sum(d) \n",
      "print \"Percentage Accuracy\",np.sum(d)/np.sum(b)*100.0"
     ],
     "language": "python",
     "metadata": {},
     "outputs": []
    }
   ],
   "metadata": {}
  }
 ]
}